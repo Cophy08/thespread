{
 "metadata": {
  "name": "win_probability_data"
 },
 "nbformat": 3,
 "nbformat_minor": 0,
 "worksheets": [
  {
   "cells": [
    {
     "cell_type": "code",
     "collapsed": false,
     "input": [
      "import pandas as pd\n",
      "import pandas.io.sql as psql\n",
      "import psycopg2\n",
      "import pickle\n",
      "\n",
      "import matplotlib as mpl\n",
      "import matplotlib.pyplot as plt\n",
      "import seaborn as sns\n",
      "from matplotlib.pyplot import plot, hist"
     ],
     "language": "python",
     "metadata": {},
     "outputs": [],
     "prompt_number": 121
    },
    {
     "cell_type": "code",
     "collapsed": false,
     "input": [
      "pkl_file = open('creds.pkl', 'rb')\n",
      "creds = pickle.load(pkl_file)\n",
      "pkl_file.close()"
     ],
     "language": "python",
     "metadata": {},
     "outputs": [],
     "prompt_number": 122
    },
    {
     "cell_type": "code",
     "collapsed": false,
     "input": [
      "conn = psycopg2.connect(database = 'pbp', user = creds['user'], password = creds['password'])\n",
      "sql = \"select * from win_prob_data where pid >= 42246 and gid in (select gid from games where wk <= 17) order by gid asc, pid asc\"\n",
      "df = psql.read_frame(sql, conn)\n",
      "\n",
      "score_sql = \"select abs(ptsh-ptsv) as score_diff from games where seas >= 2001 and gid in (select gid from games where wk <= 17)\"\n",
      "score_df = psql.read_frame(sql, conn)\n",
      "\n",
      "conn.close()"
     ],
     "language": "python",
     "metadata": {},
     "outputs": [],
     "prompt_number": 123
    },
    {
     "cell_type": "code",
     "collapsed": false,
     "input": [
      "font = {'family' : 'Droid Sans',\n",
      "        'weight' : 'normal',\n",
      "        'size'   : 22}\n",
      "\n",
      "mpl.rc('font', **font)"
     ],
     "language": "python",
     "metadata": {},
     "outputs": [],
     "prompt_number": 11
    },
    {
     "cell_type": "code",
     "collapsed": false,
     "input": [
      "fig = plt.figure(figsize=(6, 4), dpi=300)\n",
      "plt.xlim(-5, 3605)\n",
      "plt.hist(df.sec_adj, bins = 72, range = [-5, 3605])\n",
      "plt.title('Distribution of seconds remaining in NFL games, 2001-2012.')\n",
      "plt.xlabel('Seconds remaining')\n",
      "plt.ylabel('Number of plays')\n",
      "plt.show()"
     ],
     "language": "python",
     "metadata": {},
     "outputs": [],
     "prompt_number": 18
    },
    {
     "cell_type": "code",
     "collapsed": false,
     "input": [
      "fig = plt.figure(figsize=(6, 4), dpi=300)\n",
      "plt.xlim(0, 100)\n",
      "plt.hist(df.yfog, bins = 20, range = [-5, 105])\n",
      "plt.title('Distribution of yards from own goal in NFL games, 2001-2012.')\n",
      "plt.xlabel('Yards from own goal')\n",
      "plt.ylabel('Number of plays')\n",
      "plt.show()"
     ],
     "language": "python",
     "metadata": {},
     "outputs": [],
     "prompt_number": 86
    },
    {
     "cell_type": "code",
     "collapsed": false,
     "input": [
      "fig = plt.figure(figsize = (6, 4), dpi = 300)\n",
      "ax = plt.subplot(111)\n",
      "plt.xlim(0, 4)\n",
      "plt.bar([.5, 1.5, 2.5, 3.5], df['dwn'].value_counts().values, align = 'center')\n",
      "ax.set_ylabel('Frequency')\n",
      "ax.set_xlabel('Down')\n",
      "ax.set_xticks([.5,1.5, 2.5, 3.5])\n",
      "ax.set_xticklabels( ('1', '2', '3', '4') )\n",
      "plt.title('Distribution of downs in NFL games, 2001-2012.')\n",
      "plt.show()"
     ],
     "language": "python",
     "metadata": {},
     "outputs": [],
     "prompt_number": 79
    },
    {
     "cell_type": "code",
     "collapsed": false,
     "input": [
      "fig = plt.figure(figsize=(6, 4), dpi=300)\n",
      "ax = plt.subplot(111)\n",
      "plt.xlim(0, 64)\n",
      "plt.hist(score_df.score_diff, bins = 60, range = [0, 64])\n",
      "plt.title('Distribution of score differential in NFL games, 2001-2012.')\n",
      "ax.set_xticks(range(0, 64, 2))\n",
      "plt.xlabel('Score differential')\n",
      "plt.ylabel('Number of games')\n",
      "plt.show()"
     ],
     "language": "python",
     "metadata": {},
     "outputs": [],
     "prompt_number": 120
    }
   ],
   "metadata": {}
  }
 ]
}