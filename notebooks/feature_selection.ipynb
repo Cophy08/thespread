{
 "metadata": {
  "name": ""
 },
 "nbformat": 3,
 "nbformat_minor": 0,
 "worksheets": [
  {
   "cells": [
    {
     "cell_type": "code",
     "collapsed": false,
     "input": [
      "import numpy as np\n",
      "import pandas as pd\n",
      "import cPickle\n",
      "import os\n",
      "\n",
      "from collections import defaultdict\n",
      "\n",
      "import matplotlib as mpl\n",
      "import matplotlib.pyplot as plt\n",
      "import seaborn as sns\n",
      "\n",
      "from time import time\n",
      "from operator import itemgetter\n",
      "from scipy.stats import randint as sp_randint\n",
      "\n",
      "from sklearn.ensemble import RandomForestClassifier\n",
      "from sklearn.metrics import classification_report, roc_curve, auc, precision_recall_curve\n",
      "from sklearn.externals import joblib\n",
      "from sklearn.cross_validation import train_test_split\n",
      "from sklearn.grid_search import RandomizedSearchCV\n",
      "from sklearn.feature_selection import SelectKBest\n",
      "\n",
      "from scipy.stats import sem\n",
      "\n",
      "pd.set_option('display.mpl_style', 'default') \n",
      "pd.set_option('display.width', 5000) \n",
      "pd.set_option('display.max_columns', 60) \n",
      "\n",
      "# Font face used to match plots to blog.\n",
      "font = {'family' : 'Droid Sans',\n",
      "        'weight' : 'normal',\n",
      "        'size': 10}\n",
      "\n",
      "mpl.rc('font', **font)"
     ],
     "language": "python",
     "metadata": {},
     "outputs": [],
     "prompt_number": 41
    },
    {
     "cell_type": "code",
     "collapsed": false,
     "input": [
      "def bootstrap_resample(X, n = None):\n",
      "    \"\"\" Bootstrap resample an array_like\n",
      "    Parameters\n",
      "    ----------\n",
      "    X : array_like\n",
      "      data to resample\n",
      "    n : int, optional\n",
      "      length of resampled array, equal to len(X) if n==None\n",
      "    Results\n",
      "    -------\n",
      "    returns X_resamples\n",
      "    Source: http://nbviewer.ipython.org/gist/aflaxman/6871948\n",
      "    \"\"\"\n",
      "    if n == None:\n",
      "        n = len(X)\n",
      "        \n",
      "    resample_i = np.floor(np.random.rand(n)*len(X)).astype(int)\n",
      "    X_resample = X[resample_i]\n",
      "    return X_resample"
     ],
     "language": "python",
     "metadata": {},
     "outputs": [],
     "prompt_number": 2
    },
    {
     "cell_type": "code",
     "collapsed": false,
     "input": [
      "def evaluate_model(model, features, target, test_features, test_target):\n",
      "    print 'Training set score: ', model.score(features, target)\n",
      "    print 'Test set score: ', model.score(test_features, test_target)\n",
      "    preds = model.predict(test_features)\n",
      "    print classification_report(np.array(test_target), preds)\n",
      "    print 'Confusion matrix: '\n",
      "    print pd.crosstab(test_target, preds, rownames=[\"Actual\"], colnames=[\"Predicted\"])"
     ],
     "language": "python",
     "metadata": {},
     "outputs": [],
     "prompt_number": 3
    },
    {
     "cell_type": "code",
     "collapsed": false,
     "input": [
      "%run ../load_pbp_data.py\n",
      "# Loads the following dataframes:\n",
      "# df        : training data from 2001-2012\n",
      "# test_df   : testing data, 2013 until week 12\n",
      "# games_df  : final scores, locations, and lines from 2000-2012"
     ],
     "language": "python",
     "metadata": {},
     "outputs": [],
     "prompt_number": 4
    },
    {
     "cell_type": "code",
     "collapsed": false,
     "input": [
      "features = df[['qtr', 'sec_adj', 'sec_adj_sqrt', 'dwn', 'ytg', 'yfog', 'scorediff', 'sprv', 'ou']]\n",
      "feature_names = pd.Series(['qtr', 'sec_adj', 'sec_adj_sqrt', 'dwn', 'ytg', 'yfog', 'scorediff', 'sprv', 'ou'])\n",
      "target = df['teamwin']"
     ],
     "language": "python",
     "metadata": {},
     "outputs": [],
     "prompt_number": 34
    },
    {
     "cell_type": "code",
     "collapsed": false,
     "input": [
      "test_features = test_df[['qtr', 'sec_adj', 'sec_adj_sqrt', 'dwn', 'ytg', 'yfog', 'scorediff', 'sprv', 'ou']]\n",
      "test_target = test_df['teamwin']"
     ],
     "language": "python",
     "metadata": {},
     "outputs": [],
     "prompt_number": 6
    },
    {
     "cell_type": "code",
     "collapsed": false,
     "input": [
      "train_features, val_features, train_target, val_target = train_test_split(features, target, test_size=.1)"
     ],
     "language": "python",
     "metadata": {},
     "outputs": [],
     "prompt_number": 7
    },
    {
     "cell_type": "code",
     "collapsed": false,
     "input": [
      "print train_features.shape\n",
      "print train_target.shape\n",
      "print val_features.shape\n",
      "print val_target.shape"
     ],
     "language": "python",
     "metadata": {},
     "outputs": [
      {
       "output_type": "stream",
       "stream": "stdout",
       "text": [
        "(381043, 9)\n",
        "(381043,)\n",
        "(42339, 9)\n",
        "(42339,)\n"
       ]
      }
     ],
     "prompt_number": 8
    },
    {
     "cell_type": "code",
     "collapsed": false,
     "input": [
      "len(feature_selections.keys())"
     ],
     "language": "python",
     "metadata": {},
     "outputs": [
      {
       "metadata": {},
       "output_type": "pyout",
       "prompt_number": 86,
       "text": [
        "9"
       ]
      }
     ],
     "prompt_number": 86
    },
    {
     "cell_type": "code",
     "collapsed": false,
     "input": [
      "feature_selections = defaultdict.fromkeys(feature_names, 0)"
     ],
     "language": "python",
     "metadata": {},
     "outputs": [],
     "prompt_number": 87
    },
    {
     "cell_type": "code",
     "collapsed": false,
     "input": [
      "for i in range(1, 10):\n",
      "    skb = SelectKBest(k = i)\n",
      "    skb.fit(train_features, train_target, )\n",
      "    selected = feature_names[skb.get_support()]\n",
      "    for feature in selected.values:\n",
      "        feature_selections[feature] += 1"
     ],
     "language": "python",
     "metadata": {},
     "outputs": [],
     "prompt_number": 75
    },
    {
     "cell_type": "code",
     "collapsed": false,
     "input": [
      "%matplotlib qt\n",
      "pd.DataFrame.from_dict(feature_selections, orient='index').sort(0).plot(kind='barh', \n",
      "                                                                        title='Results of SelectKBest Features',\n",
      "                                                                        legend=False)\n",
      "plt.xlim([0,9])\n",
      "plt.xlabel('Number of times selected')\n",
      "plt.ylabel('Feature')\n",
      "plt.show()"
     ],
     "language": "python",
     "metadata": {},
     "outputs": [],
     "prompt_number": 82
    }
   ],
   "metadata": {}
  }
 ]
}