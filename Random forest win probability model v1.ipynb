{
 "metadata": {
  "name": "Random forest win probability model v1"
 },
 "nbformat": 3,
 "nbformat_minor": 0,
 "worksheets": [
  {
   "cells": [
    {
     "cell_type": "code",
     "collapsed": false,
     "input": [
      "import numpy as np\n",
      "import pandas as pd\n",
      "import pandas.io.sql as psql\n",
      "import psycopg2\n",
      "import pickle\n",
      "\n",
      "import matplotlib as mpl\n",
      "import matplotlib.pyplot as plt\n",
      "import seaborn as sns\n",
      "from matplotlib.pyplot import plot, hist\n",
      "\n",
      "from sklearn.ensemble import RandomForestClassifier, GradientBoostingClassifier\n",
      "from sklearn.grid_search import GridSearchCV"
     ],
     "language": "python",
     "metadata": {},
     "outputs": [],
     "prompt_number": 322
    },
    {
     "cell_type": "code",
     "collapsed": false,
     "input": [
      "# Load database credentials from a serialized file\n",
      "pkl_file = open('creds.pkl', 'rb')\n",
      "creds = pickle.load(pkl_file)\n",
      "pkl_file.close()"
     ],
     "language": "python",
     "metadata": {},
     "outputs": [],
     "prompt_number": 323
    },
    {
     "cell_type": "code",
     "collapsed": false,
     "input": [
      "# Loads the play by play data from a local Postgres database.\n",
      "conn = psycopg2.connect(database = 'pbp', user = creds['user'], password = creds['password'])\n",
      "sql = \"select * from win_prob_data where pid >= 42246 and qtr <= 4 and gid in (select gid from games where wk <= 17) order by gid asc, pid asc\"\n",
      "df = psql.read_frame(sql, conn)\n",
      "\n",
      "score_sql = \"select abs(ptsh-ptsv) as score_diff from games where seas >= 2001 and gid in (select gid from games where wk <= 17)\"\n",
      "score_df = psql.read_frame(score_sql, conn)\n",
      "\n",
      "test_sql = \"select gameid, qtr, min, sec, off, def, ydline, down, togo, scorediff, teamwin from win_prob_test_data where down is not null;\"\n",
      "test_df = psql.read_frame(test_sql, conn)\n",
      "\n",
      "conn.close()"
     ],
     "language": "python",
     "metadata": {},
     "outputs": [],
     "prompt_number": 3
    },
    {
     "cell_type": "code",
     "collapsed": false,
     "input": [
      "# Font face used to match plots to blog.\n",
      "font = {'family' : 'Droid Sans',\n",
      "        'weight' : 'normal',\n",
      "        'size'   : 22}\n",
      "\n",
      "mpl.rc('font', **font)"
     ],
     "language": "python",
     "metadata": {},
     "outputs": [],
     "prompt_number": 4
    },
    {
     "cell_type": "code",
     "collapsed": false,
     "input": [
      "# Create score differential variable and identify which plays belong to winning teams.\n",
      "df['score_diff'] = df['ptso'] - df['ptsd']\n",
      "df['win'] = 0\n",
      "df['win'][df['off'] == df['winner']] = 1"
     ],
     "language": "python",
     "metadata": {},
     "outputs": [],
     "prompt_number": 5
    },
    {
     "cell_type": "code",
     "collapsed": false,
     "input": [
      "features = df[['sec_adj', 'dwn', 'ytg', 'yfog', 'score_diff']]\n",
      "target = df['win']"
     ],
     "language": "python",
     "metadata": {},
     "outputs": [],
     "prompt_number": 6
    },
    {
     "cell_type": "code",
     "collapsed": false,
     "input": [
      "test_df['sec'] = test_df['sec'].astype('int')\n",
      "test_df['yfog'] = 100 - test_df['ydline']\n",
      "test_df['sec_adj'] = test_df['min'] * 60 + test_df['sec']"
     ],
     "language": "python",
     "metadata": {},
     "outputs": [],
     "prompt_number": 7
    },
    {
     "cell_type": "code",
     "collapsed": false,
     "input": [
      "test_df.head()"
     ],
     "language": "python",
     "metadata": {},
     "outputs": [
      {
       "html": [
        "<div style=\"max-height:1000px;max-width:1500px;overflow:auto;\">\n",
        "<table border=\"1\" class=\"dataframe\">\n",
        "  <thead>\n",
        "    <tr style=\"text-align: right;\">\n",
        "      <th></th>\n",
        "      <th>gameid</th>\n",
        "      <th>qtr</th>\n",
        "      <th>min</th>\n",
        "      <th>sec</th>\n",
        "      <th>off</th>\n",
        "      <th>def</th>\n",
        "      <th>ydline</th>\n",
        "      <th>down</th>\n",
        "      <th>togo</th>\n",
        "      <th>scorediff</th>\n",
        "      <th>teamwin</th>\n",
        "      <th>yfog</th>\n",
        "      <th>sec_adj</th>\n",
        "    </tr>\n",
        "  </thead>\n",
        "  <tbody>\n",
        "    <tr>\n",
        "      <th>0</th>\n",
        "      <td> 20130905_BAL@DEN</td>\n",
        "      <td> 1</td>\n",
        "      <td> 60</td>\n",
        "      <td>  0</td>\n",
        "      <td> BAL</td>\n",
        "      <td> DEN</td>\n",
        "      <td> 80</td>\n",
        "      <td> 1</td>\n",
        "      <td> 10</td>\n",
        "      <td> 0</td>\n",
        "      <td> 0</td>\n",
        "      <td> 20</td>\n",
        "      <td> 3600</td>\n",
        "    </tr>\n",
        "    <tr>\n",
        "      <th>1</th>\n",
        "      <td> 20130905_BAL@DEN</td>\n",
        "      <td> 1</td>\n",
        "      <td> 59</td>\n",
        "      <td> 14</td>\n",
        "      <td> BAL</td>\n",
        "      <td> DEN</td>\n",
        "      <td> 81</td>\n",
        "      <td> 2</td>\n",
        "      <td> 11</td>\n",
        "      <td> 0</td>\n",
        "      <td> 0</td>\n",
        "      <td> 19</td>\n",
        "      <td> 3554</td>\n",
        "    </tr>\n",
        "    <tr>\n",
        "      <th>2</th>\n",
        "      <td> 20130905_BAL@DEN</td>\n",
        "      <td> 1</td>\n",
        "      <td> 58</td>\n",
        "      <td> 38</td>\n",
        "      <td> BAL</td>\n",
        "      <td> DEN</td>\n",
        "      <td> 78</td>\n",
        "      <td> 3</td>\n",
        "      <td>  8</td>\n",
        "      <td> 0</td>\n",
        "      <td> 0</td>\n",
        "      <td> 22</td>\n",
        "      <td> 3518</td>\n",
        "    </tr>\n",
        "    <tr>\n",
        "      <th>3</th>\n",
        "      <td> 20130905_BAL@DEN</td>\n",
        "      <td> 1</td>\n",
        "      <td> 58</td>\n",
        "      <td> 18</td>\n",
        "      <td> BAL</td>\n",
        "      <td> DEN</td>\n",
        "      <td> 72</td>\n",
        "      <td> 4</td>\n",
        "      <td>  2</td>\n",
        "      <td> 0</td>\n",
        "      <td> 0</td>\n",
        "      <td> 28</td>\n",
        "      <td> 3498</td>\n",
        "    </tr>\n",
        "    <tr>\n",
        "      <th>4</th>\n",
        "      <td> 20130905_BAL@DEN</td>\n",
        "      <td> 1</td>\n",
        "      <td> 58</td>\n",
        "      <td> 10</td>\n",
        "      <td> DEN</td>\n",
        "      <td> BAL</td>\n",
        "      <td> 77</td>\n",
        "      <td> 1</td>\n",
        "      <td> 10</td>\n",
        "      <td> 0</td>\n",
        "      <td> 1</td>\n",
        "      <td> 23</td>\n",
        "      <td> 3490</td>\n",
        "    </tr>\n",
        "  </tbody>\n",
        "</table>\n",
        "</div>"
       ],
       "output_type": "pyout",
       "prompt_number": 325,
       "text": [
        "             gameid  qtr  min  sec  off  def  ydline  down  togo  scorediff  \\\n",
        "0  20130905_BAL@DEN    1   60    0  BAL  DEN      80     1    10          0   \n",
        "1  20130905_BAL@DEN    1   59   14  BAL  DEN      81     2    11          0   \n",
        "2  20130905_BAL@DEN    1   58   38  BAL  DEN      78     3     8          0   \n",
        "3  20130905_BAL@DEN    1   58   18  BAL  DEN      72     4     2          0   \n",
        "4  20130905_BAL@DEN    1   58   10  DEN  BAL      77     1    10          0   \n",
        "\n",
        "   teamwin  yfog  sec_adj  \n",
        "0        0    20     3600  \n",
        "1        0    19     3554  \n",
        "2        0    22     3518  \n",
        "3        0    28     3498  \n",
        "4        1    23     3490  "
       ]
      }
     ],
     "prompt_number": 325
    },
    {
     "cell_type": "code",
     "collapsed": false,
     "input": [
      "# Set up the random forest model with parameters found via grid search\n",
      "model = RandomForestClassifier(oob_score = True, verbose = 1,  criterion = 'entropy', max_features = 3, n_estimators = 150, min_samples_leaf = 100)\n",
      "model = model.fit(features, target)"
     ],
     "language": "python",
     "metadata": {},
     "outputs": [
      {
       "output_type": "stream",
       "stream": "stderr",
       "text": [
        "[Parallel(n_jobs=1)]: Done   1 jobs       | elapsed:  4.0min\n",
        "[Parallel(n_jobs=1)]: Done   1 out of   1 | elapsed:  4.0min finished\n"
       ]
      }
     ],
     "prompt_number": 47
    },
    {
     "cell_type": "code",
     "collapsed": false,
     "input": [
      "# Get within-sample prediction accuracy\n",
      "model.score(features, target)"
     ],
     "language": "python",
     "metadata": {},
     "outputs": [
      {
       "output_type": "stream",
       "stream": "stderr",
       "text": [
        "[Parallel(n_jobs=1)]: Done   1 jobs       | elapsed:    6.2s\n",
        "[Parallel(n_jobs=1)]: Done   1 out of   1 | elapsed:    6.2s finished\n"
       ]
      },
      {
       "output_type": "pyout",
       "prompt_number": 48,
       "text": [
        "0.75842310576468341"
       ]
      }
     ],
     "prompt_number": 48
    },
    {
     "cell_type": "code",
     "collapsed": false,
     "input": [
      "model_gbm = GradientBoostingClassifier()\n",
      "model_gbm = model_gbm.fit(features, target)"
     ],
     "language": "python",
     "metadata": {},
     "outputs": [],
     "prompt_number": 326
    },
    {
     "cell_type": "code",
     "collapsed": false,
     "input": [
      "# Win probabilities for opening drive toucbback.\n",
      "probs = []\n",
      "for estimator in model.estimators_:\n",
      "    probs.append(estimator.predict_proba([3600, 1, 10, 20, 0])[0][1])"
     ],
     "language": "python",
     "metadata": {},
     "outputs": [],
     "prompt_number": 328
    },
    {
     "cell_type": "code",
     "collapsed": false,
     "input": [
      "# Set aside one game to examine, first game of Week 1 2013\n",
      "game = test_df[test_df['gameid'] == '20130905_BAL@DEN']\n",
      "game_probs = dict.fromkeys(game.index)"
     ],
     "language": "python",
     "metadata": {},
     "outputs": [],
     "prompt_number": 58
    },
    {
     "cell_type": "code",
     "collapsed": false,
     "input": [
      "# Get the 150 individual votes from each tree for each play\n",
      "# Store only the votes for the positive class (winning)\n",
      "# Combine into a NumPy array.\n",
      "win_probs = dict()\n",
      "for play in game_probs:\n",
      "    win_probs[play] = np.dstack(game_probs[play]).flatten()[150:]"
     ],
     "language": "python",
     "metadata": {},
     "outputs": [],
     "prompt_number": 330
    },
    {
     "cell_type": "code",
     "collapsed": false,
     "input": [
      "# Get the mean, 2.5th and 97.5th percentile for each set of 150 votes\n",
      "game['mean_probs'] = [win_probs[play].mean() for play in win_probs]\n",
      "game['lower_prob'] = [np.percentile(win_probs[play], 2.5) for play in win_probs]\n",
      "game['upper_prob'] = [np.percentile(win_probs[play], 97.5) for play in win_probs]"
     ],
     "language": "python",
     "metadata": {},
     "outputs": [],
     "prompt_number": 285
    },
    {
     "cell_type": "code",
     "collapsed": false,
     "input": [
      "# Recode so that all probabilities are in terms of a DEN win\n",
      "# Otherwise the graph zig-zags with every possession change.\n",
      "\n",
      "game['mean_probs'][game['off'] == 'BAL'] = 1 - game['mean_probs'][game['off'] == 'BAL']"
     ],
     "language": "python",
     "metadata": {},
     "outputs": [],
     "prompt_number": 287
    },
    {
     "cell_type": "code",
     "collapsed": false,
     "input": [
      "game['lower_prob'][game['off'] == 'BAL'] = 1 - game['lower_prob'][game['off'] == 'BAL']\n",
      "game['upper_prob'][game['off'] == 'BAL'] = 1 - game['upper_prob'][game['off'] == 'BAL']"
     ],
     "language": "python",
     "metadata": {},
     "outputs": [],
     "prompt_number": 317
    },
    {
     "cell_type": "code",
     "collapsed": false,
     "input": [
      "fig = plt.figure(figsize=(8, 4), dpi = 300)\n",
      "plt.ylim(0,1)\n",
      "plt.xlim(0, 3600)\n",
      "plt.axvline(x=900, ymin=0, ymax=1, alpha = .2, color = 'red')\n",
      "plt.axvline(x=1800, ymin=0, ymax=1, alpha = .2, color = 'red')\n",
      "plt.axvline(x=2700, ymin=0, ymax=1, alpha = .2, color = 'red')\n",
      "plt.plot(3600 - game['sec_adj'], game['mean_probs'])\n",
      "plt.fill_between(3600 - game['sec_adj'], game['lower_prob'], game['upper_prob'], alpha = .2)\n",
      "plt.ylabel('Mean probability of DEN win')\n",
      "plt.xlabel('Seconds')\n",
      "plt.title('Mean win probability of DEN win, Week 1 2013')"
     ],
     "language": "python",
     "metadata": {},
     "outputs": [
      {
       "output_type": "pyout",
       "prompt_number": 319,
       "text": [
        "<matplotlib.text.Text at 0x1063f510>"
       ]
      }
     ],
     "prompt_number": 319
    },
    {
     "cell_type": "code",
     "collapsed": false,
     "input": [
      "fig = plt.figure(figsize=(6, 4), dpi=300)\n",
      "plt.xlabel('Beginning of game, no score, own 20')\n",
      "plt.ylabel('Estimated probability of winning')\n",
      "plt.title('Distribution of random forest win probability estimates')\n",
      "plt.xticks = []\n",
      "\n",
      "sns.violin(np.array(probs), color = 'pastel', ax = None, alpha = .6)\n",
      "plt.show()"
     ],
     "language": "python",
     "metadata": {},
     "outputs": [],
     "prompt_number": 56
    },
    {
     "cell_type": "code",
     "collapsed": false,
     "input": [
      "sns.set_color_palette(\"deep\", desat=.6)\n",
      "plt.hist(np.array(probs))\n",
      "sns.kdeplot(np.array(probs), shade = True)"
     ],
     "language": "python",
     "metadata": {},
     "outputs": [
      {
       "output_type": "pyout",
       "prompt_number": 62,
       "text": [
        "<matplotlib.axes.AxesSubplot at 0x194e04d0>"
       ]
      }
     ],
     "prompt_number": 62
    },
    {
     "cell_type": "code",
     "collapsed": false,
     "input": [
      "fig = plt.figure(figsize=(6, 4), dpi=300)\n",
      "plt.xlim(0, 1)\n",
      "plt.hist(probs, bins = 20, range = [0, 1])\n",
      "#plt.title('Distribution of seconds remaining in NFL games, 2001-2012.')\n",
      "#plt.xlabel('Seconds remaining')\n",
      "#plt.ylabel('Number of plays')\n",
      "plt.show()"
     ],
     "language": "python",
     "metadata": {},
     "outputs": [],
     "prompt_number": 34
    },
    {
     "cell_type": "code",
     "collapsed": false,
     "input": [
      "# fig = plt.figure(figsize=(6, 4), dpi=300)\n",
      "sns.set_color_palette(\"deep\", desat=.6)\n",
      "#sns.set(palette=\"pastel\")\n",
      "plt.xlim(-5, 3605)\n",
      "plt.hist(df.sec_adj, bins = 72, range = [-5, 3605])\n",
      "plt.title('Distribution of seconds remaining in NFL games, 2001-2012.')\n",
      "plt.xlabel('Seconds remaining')\n",
      "plt.ylabel('Number of plays')\n",
      "plt.show()"
     ],
     "language": "python",
     "metadata": {},
     "outputs": [],
     "prompt_number": "*"
    },
    {
     "cell_type": "code",
     "collapsed": false,
     "input": [
      "fig = plt.figure(figsize=(6, 4), dpi=300)\n",
      "plt.xlim(0, 100)\n",
      "plt.hist(df.yfog, bins = 20, range = [-5, 105])\n",
      "plt.title('Distribution of yards from own goal in NFL games, 2001-2012.')\n",
      "plt.xlabel('Yards from own goal')\n",
      "plt.ylabel('Number of plays')\n",
      "plt.show()"
     ],
     "language": "python",
     "metadata": {},
     "outputs": [],
     "prompt_number": 130
    },
    {
     "cell_type": "code",
     "collapsed": false,
     "input": [
      "fig = plt.figure(figsize = (6, 4), dpi = 300)\n",
      "ax = plt.subplot(111)\n",
      "plt.xlim(0, 4)\n",
      "plt.bar([.5, 1.5, 2.5, 3.5], df['dwn'].value_counts().values, align = 'center')\n",
      "ax.set_ylabel('Frequency')\n",
      "ax.set_xlabel('Down')\n",
      "ax.set_xticks([.5,1.5, 2.5, 3.5])\n",
      "ax.set_xticklabels( ('1', '2', '3', '4') )\n",
      "plt.title('Distribution of downs in NFL games, 2001-2012.')\n",
      "plt.show()"
     ],
     "language": "python",
     "metadata": {},
     "outputs": [],
     "prompt_number": 79
    },
    {
     "cell_type": "code",
     "collapsed": false,
     "input": [
      "fig = plt.figure(figsize=(6, 4), dpi=300)\n",
      "ax = plt.subplot(111)\n",
      "plt.xlim(0, 64)\n",
      "plt.hist(score_df.score_diff, bins = 60, range = [0, 64])\n",
      "plt.title('Distribution of score differential in NFL games, 2001-2012.')\n",
      "ax.set_xticks(range(0, 64, 2))\n",
      "plt.xlabel('Score differential')\n",
      "plt.ylabel('Number of games')\n",
      "plt.show()"
     ],
     "language": "python",
     "metadata": {},
     "outputs": [],
     "prompt_number": 120
    }
   ],
   "metadata": {}
  }
 ]
}